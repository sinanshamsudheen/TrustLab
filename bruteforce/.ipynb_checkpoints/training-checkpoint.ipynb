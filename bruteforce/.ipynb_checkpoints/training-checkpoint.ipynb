{
 "cells": [
  {
   "cell_type": "code",
   "execution_count": 1,
   "id": "2c017887-b217-4770-bb59-69292456f11b",
   "metadata": {},
   "outputs": [],
   "source": [
    "import pandas as pd\n",
    "from sklearn.model_selection import train_test_split\n",
    "from sklearn.linear_model import LogisticRegression\n",
    "from sklearn.ensemble import RandomForestClassifier\n",
    "from xgboost import XGBClassifier\n",
    "from sklearn.metrics import classification_report\n",
    "import warnings\n",
    "warnings.filterwarnings('ignore')\n",
    "import os"
   ]
  },
  {
   "cell_type": "code",
   "execution_count": 2,
   "id": "e31c18d7-bfbb-468b-a3aa-2f3ea4905b4a",
   "metadata": {},
   "outputs": [],
   "source": [
    "os.environ['MLFLOW_TRACKING_USERNAME'] = 'sinanshamsudheen'\n",
    "os.environ['MLFLOW_TRACKING_PASSWORD'] = 'cd101ef722400d4771c17b6f8a661487a22abd3b'"
   ]
  },
  {
   "cell_type": "code",
   "execution_count": 3,
   "id": "0b70dd6a-7c48-43e9-b249-d9c9a782e674",
   "metadata": {},
   "outputs": [
    {
     "data": {
      "text/html": [
       "<div>\n",
       "<style scoped>\n",
       "    .dataframe tbody tr th:only-of-type {\n",
       "        vertical-align: middle;\n",
       "    }\n",
       "\n",
       "    .dataframe tbody tr th {\n",
       "        vertical-align: top;\n",
       "    }\n",
       "\n",
       "    .dataframe thead th {\n",
       "        text-align: right;\n",
       "    }\n",
       "</style>\n",
       "<table border=\"1\" class=\"dataframe\">\n",
       "  <thead>\n",
       "    <tr style=\"text-align: right;\">\n",
       "      <th></th>\n",
       "      <th>source_ip</th>\n",
       "      <th>user</th>\n",
       "      <th>event_type</th>\n",
       "      <th>timestamp</th>\n",
       "      <th>attempts_in_30s</th>\n",
       "      <th>unique_users_in_30s</th>\n",
       "      <th>invalid_user</th>\n",
       "      <th>success_after_fail</th>\n",
       "      <th>bruteforce</th>\n",
       "    </tr>\n",
       "  </thead>\n",
       "  <tbody>\n",
       "    <tr>\n",
       "      <th>1793</th>\n",
       "      <td>10.0.215.106</td>\n",
       "      <td>admin</td>\n",
       "      <td>failed</td>\n",
       "      <td>2025-06-20 19:16:05.381193</td>\n",
       "      <td>5</td>\n",
       "      <td>2</td>\n",
       "      <td>1</td>\n",
       "      <td>0</td>\n",
       "      <td>1</td>\n",
       "    </tr>\n",
       "    <tr>\n",
       "      <th>1504</th>\n",
       "      <td>192.168.205.170</td>\n",
       "      <td>bob</td>\n",
       "      <td>failed</td>\n",
       "      <td>2025-06-20 19:48:24.319895</td>\n",
       "      <td>4</td>\n",
       "      <td>4</td>\n",
       "      <td>1</td>\n",
       "      <td>0</td>\n",
       "      <td>0</td>\n",
       "    </tr>\n",
       "    <tr>\n",
       "      <th>822</th>\n",
       "      <td>10.0.245.87</td>\n",
       "      <td>root</td>\n",
       "      <td>failed</td>\n",
       "      <td>2025-06-20 19:52:29.420936</td>\n",
       "      <td>7</td>\n",
       "      <td>2</td>\n",
       "      <td>1</td>\n",
       "      <td>0</td>\n",
       "      <td>1</td>\n",
       "    </tr>\n",
       "    <tr>\n",
       "      <th>1861</th>\n",
       "      <td>10.0.195.161</td>\n",
       "      <td>root</td>\n",
       "      <td>failed</td>\n",
       "      <td>2025-06-20 19:09:21.373765</td>\n",
       "      <td>9</td>\n",
       "      <td>8</td>\n",
       "      <td>1</td>\n",
       "      <td>0</td>\n",
       "      <td>1</td>\n",
       "    </tr>\n",
       "    <tr>\n",
       "      <th>1500</th>\n",
       "      <td>10.0.89.17</td>\n",
       "      <td>root</td>\n",
       "      <td>failed</td>\n",
       "      <td>2025-06-20 19:24:54.415642</td>\n",
       "      <td>7</td>\n",
       "      <td>4</td>\n",
       "      <td>0</td>\n",
       "      <td>0</td>\n",
       "      <td>1</td>\n",
       "    </tr>\n",
       "  </tbody>\n",
       "</table>\n",
       "</div>"
      ],
      "text/plain": [
       "            source_ip   user event_type                   timestamp  \\\n",
       "1793     10.0.215.106  admin     failed  2025-06-20 19:16:05.381193   \n",
       "1504  192.168.205.170    bob     failed  2025-06-20 19:48:24.319895   \n",
       "822       10.0.245.87   root     failed  2025-06-20 19:52:29.420936   \n",
       "1861     10.0.195.161   root     failed  2025-06-20 19:09:21.373765   \n",
       "1500       10.0.89.17   root     failed  2025-06-20 19:24:54.415642   \n",
       "\n",
       "      attempts_in_30s  unique_users_in_30s  invalid_user  success_after_fail  \\\n",
       "1793                5                    2             1                   0   \n",
       "1504                4                    4             1                   0   \n",
       "822                 7                    2             1                   0   \n",
       "1861                9                    8             1                   0   \n",
       "1500                7                    4             0                   0   \n",
       "\n",
       "      bruteforce  \n",
       "1793           1  \n",
       "1504           0  \n",
       "822            1  \n",
       "1861           1  \n",
       "1500           1  "
      ]
     },
     "execution_count": 3,
     "metadata": {},
     "output_type": "execute_result"
    }
   ],
   "source": [
    "df = pd.read_csv(\"noisy_balanced_synthetic_auth_dataset.csv\")\n",
    "df.sample(5)"
   ]
  },
  {
   "cell_type": "code",
   "execution_count": 4,
   "id": "53f31c25-b005-4e5e-a049-e5c1504c886e",
   "metadata": {},
   "outputs": [
    {
     "data": {
      "text/plain": [
       "source_ip              object\n",
       "user                   object\n",
       "event_type             object\n",
       "timestamp              object\n",
       "attempts_in_30s         int64\n",
       "unique_users_in_30s     int64\n",
       "invalid_user            int64\n",
       "success_after_fail      int64\n",
       "bruteforce              int64\n",
       "dtype: object"
      ]
     },
     "execution_count": 4,
     "metadata": {},
     "output_type": "execute_result"
    }
   ],
   "source": [
    "df.dtypes"
   ]
  },
  {
   "cell_type": "code",
   "execution_count": 5,
   "id": "8bf0d09f-4637-4e2a-81e7-00e89d4e4991",
   "metadata": {},
   "outputs": [
    {
     "data": {
      "text/plain": [
       "event_type\n",
       "failed     1100\n",
       "success     900\n",
       "Name: count, dtype: int64"
      ]
     },
     "execution_count": 5,
     "metadata": {},
     "output_type": "execute_result"
    }
   ],
   "source": [
    "df.event_type.value_counts()"
   ]
  },
  {
   "cell_type": "code",
   "execution_count": 6,
   "id": "ca86e5bc-a399-404f-9d9d-3320f10a082c",
   "metadata": {},
   "outputs": [],
   "source": [
    "df['event_success'] = df['event_type'].apply(lambda x: 1 if x == 'success' else 0)"
   ]
  },
  {
   "cell_type": "code",
   "execution_count": 7,
   "id": "60b3773c-cc14-41fe-8989-8dadbffc5a1f",
   "metadata": {},
   "outputs": [
    {
     "data": {
      "text/plain": [
       "user\n",
       "admin      433\n",
       "alice      253\n",
       "bob        251\n",
       "charlie    246\n",
       "user       226\n",
       "guest      198\n",
       "test       198\n",
       "root       195\n",
       "Name: count, dtype: int64"
      ]
     },
     "execution_count": 7,
     "metadata": {},
     "output_type": "execute_result"
    }
   ],
   "source": [
    "df.user.value_counts()"
   ]
  },
  {
   "cell_type": "code",
   "execution_count": 8,
   "id": "13065269-abce-4650-a89f-d27d9c8f103f",
   "metadata": {},
   "outputs": [],
   "source": [
    "X = df.drop(columns=[\"user\",'source_ip','timestamp','event_type','bruteforce'])\n",
    "y = df.bruteforce"
   ]
  },
  {
   "cell_type": "code",
   "execution_count": 9,
   "id": "1b0e3910-ec39-494a-8650-b8245f813708",
   "metadata": {},
   "outputs": [
    {
     "data": {
      "text/html": [
       "<div>\n",
       "<style scoped>\n",
       "    .dataframe tbody tr th:only-of-type {\n",
       "        vertical-align: middle;\n",
       "    }\n",
       "\n",
       "    .dataframe tbody tr th {\n",
       "        vertical-align: top;\n",
       "    }\n",
       "\n",
       "    .dataframe thead th {\n",
       "        text-align: right;\n",
       "    }\n",
       "</style>\n",
       "<table border=\"1\" class=\"dataframe\">\n",
       "  <thead>\n",
       "    <tr style=\"text-align: right;\">\n",
       "      <th></th>\n",
       "      <th>attempts_in_30s</th>\n",
       "      <th>unique_users_in_30s</th>\n",
       "      <th>invalid_user</th>\n",
       "      <th>success_after_fail</th>\n",
       "      <th>event_success</th>\n",
       "    </tr>\n",
       "  </thead>\n",
       "  <tbody>\n",
       "    <tr>\n",
       "      <th>1499</th>\n",
       "      <td>17</td>\n",
       "      <td>6</td>\n",
       "      <td>0</td>\n",
       "      <td>0</td>\n",
       "      <td>0</td>\n",
       "    </tr>\n",
       "    <tr>\n",
       "      <th>1170</th>\n",
       "      <td>1</td>\n",
       "      <td>1</td>\n",
       "      <td>0</td>\n",
       "      <td>0</td>\n",
       "      <td>0</td>\n",
       "    </tr>\n",
       "    <tr>\n",
       "      <th>445</th>\n",
       "      <td>1</td>\n",
       "      <td>1</td>\n",
       "      <td>0</td>\n",
       "      <td>1</td>\n",
       "      <td>1</td>\n",
       "    </tr>\n",
       "    <tr>\n",
       "      <th>1279</th>\n",
       "      <td>17</td>\n",
       "      <td>2</td>\n",
       "      <td>1</td>\n",
       "      <td>0</td>\n",
       "      <td>0</td>\n",
       "    </tr>\n",
       "    <tr>\n",
       "      <th>1796</th>\n",
       "      <td>1</td>\n",
       "      <td>1</td>\n",
       "      <td>0</td>\n",
       "      <td>1</td>\n",
       "      <td>1</td>\n",
       "    </tr>\n",
       "    <tr>\n",
       "      <th>1377</th>\n",
       "      <td>1</td>\n",
       "      <td>1</td>\n",
       "      <td>0</td>\n",
       "      <td>1</td>\n",
       "      <td>1</td>\n",
       "    </tr>\n",
       "    <tr>\n",
       "      <th>687</th>\n",
       "      <td>3</td>\n",
       "      <td>2</td>\n",
       "      <td>1</td>\n",
       "      <td>1</td>\n",
       "      <td>1</td>\n",
       "    </tr>\n",
       "    <tr>\n",
       "      <th>546</th>\n",
       "      <td>1</td>\n",
       "      <td>1</td>\n",
       "      <td>0</td>\n",
       "      <td>0</td>\n",
       "      <td>0</td>\n",
       "    </tr>\n",
       "    <tr>\n",
       "      <th>1337</th>\n",
       "      <td>1</td>\n",
       "      <td>1</td>\n",
       "      <td>0</td>\n",
       "      <td>1</td>\n",
       "      <td>1</td>\n",
       "    </tr>\n",
       "    <tr>\n",
       "      <th>1434</th>\n",
       "      <td>1</td>\n",
       "      <td>1</td>\n",
       "      <td>0</td>\n",
       "      <td>1</td>\n",
       "      <td>1</td>\n",
       "    </tr>\n",
       "  </tbody>\n",
       "</table>\n",
       "</div>"
      ],
      "text/plain": [
       "      attempts_in_30s  unique_users_in_30s  invalid_user  success_after_fail  \\\n",
       "1499               17                    6             0                   0   \n",
       "1170                1                    1             0                   0   \n",
       "445                 1                    1             0                   1   \n",
       "1279               17                    2             1                   0   \n",
       "1796                1                    1             0                   1   \n",
       "1377                1                    1             0                   1   \n",
       "687                 3                    2             1                   1   \n",
       "546                 1                    1             0                   0   \n",
       "1337                1                    1             0                   1   \n",
       "1434                1                    1             0                   1   \n",
       "\n",
       "      event_success  \n",
       "1499              0  \n",
       "1170              0  \n",
       "445               1  \n",
       "1279              0  \n",
       "1796              1  \n",
       "1377              1  \n",
       "687               1  \n",
       "546               0  \n",
       "1337              1  \n",
       "1434              1  "
      ]
     },
     "execution_count": 9,
     "metadata": {},
     "output_type": "execute_result"
    }
   ],
   "source": [
    "X.sample(10)"
   ]
  },
  {
   "cell_type": "code",
   "execution_count": 10,
   "id": "6c5bb107-9cb8-4ffe-abac-baf06bcde4cf",
   "metadata": {},
   "outputs": [
    {
     "data": {
      "text/plain": [
       "Index(['attempts_in_30s', 'unique_users_in_30s', 'invalid_user',\n",
       "       'success_after_fail', 'event_success'],\n",
       "      dtype='object')"
      ]
     },
     "execution_count": 10,
     "metadata": {},
     "output_type": "execute_result"
    }
   ],
   "source": [
    "X.columns"
   ]
  },
  {
   "cell_type": "code",
   "execution_count": 11,
   "id": "eb8f825b-02fe-4f20-840e-0fa33922a263",
   "metadata": {},
   "outputs": [
    {
     "data": {
      "text/plain": [
       "bruteforce\n",
       "1    1000\n",
       "0    1000\n",
       "Name: count, dtype: int64"
      ]
     },
     "execution_count": 11,
     "metadata": {},
     "output_type": "execute_result"
    }
   ],
   "source": [
    "df.bruteforce.value_counts()"
   ]
  },
  {
   "cell_type": "code",
   "execution_count": 12,
   "id": "7806b7c8-4dd3-45aa-96ba-5a209f9f3e8c",
   "metadata": {},
   "outputs": [],
   "source": [
    "X_train, X_test, y_train, y_test = train_test_split(X, y, test_size=0.2, random_state=42, stratify=y)"
   ]
  },
  {
   "cell_type": "code",
   "execution_count": 13,
   "id": "05d25779-197e-444f-b0a4-1a103f4af5dc",
   "metadata": {},
   "outputs": [],
   "source": [
    "models = [\n",
    "    (\n",
    "        \"Logistic Regression\", \n",
    "        {'C': 1, 'max_iter': 1000, 'penalty': 'l2', 'solver': 'liblinear'},\n",
    "        LogisticRegression(), \n",
    "        (X_train, y_train),\n",
    "        (X_test, y_test)\n",
    "    ),\n",
    "    (\n",
    "        \"Random Forest\", \n",
    "        {\"n_estimators\": 30, \"max_depth\": 3},\n",
    "        RandomForestClassifier(), \n",
    "        (X_train, y_train),\n",
    "        (X_test, y_test)\n",
    "    ),\n",
    "    (\n",
    "        \"XGBClassifier\",\n",
    "        {\"use_label_encoder\": False, \"eval_metric\": 'logloss'},\n",
    "        XGBClassifier(), \n",
    "        (X_train, y_train),\n",
    "        (X_test, y_test)\n",
    "    ),\n",
    "]"
   ]
  },
  {
   "cell_type": "code",
   "execution_count": 14,
   "id": "c4a6d3f2-0fdb-4644-a081-a5fe1de41722",
   "metadata": {},
   "outputs": [],
   "source": [
    "reports = []\n",
    "\n",
    "for model_name, params, model, train_set, test_set in models:\n",
    "    X_train = train_set[0]\n",
    "    y_train = train_set[1]\n",
    "    X_test = test_set[0]\n",
    "    y_test = test_set[1]\n",
    "    \n",
    "    model.set_params(**params)\n",
    "    model.fit(X_train, y_train)\n",
    "    y_pred = model.predict(X_test)\n",
    "    report = classification_report(y_test, y_pred, output_dict=True)\n",
    "    reports.append(report)"
   ]
  },
  {
   "cell_type": "code",
   "execution_count": 15,
   "id": "fd340296-c033-4d23-b036-770c888029cb",
   "metadata": {},
   "outputs": [],
   "source": [
    "import mlflow\n",
    "import mlflow.sklearn\n",
    "import mlflow.xgboost"
   ]
  },
  {
   "cell_type": "code",
   "execution_count": 16,
   "id": "ee1a95d2-5a01-473e-acb9-d5e3e421eba2",
   "metadata": {},
   "outputs": [
    {
     "data": {
      "text/html": [
       "<pre style=\"white-space:pre;overflow-x:auto;line-height:normal;font-family:Menlo,'DejaVu Sans Mono',consolas,'Courier New',monospace\">Accessing as sinanshamsudheen\n",
       "</pre>\n"
      ],
      "text/plain": [
       "Accessing as sinanshamsudheen\n"
      ]
     },
     "metadata": {},
     "output_type": "display_data"
    },
    {
     "data": {
      "text/html": [
       "<pre style=\"white-space:pre;overflow-x:auto;line-height:normal;font-family:Menlo,'DejaVu Sans Mono',consolas,'Courier New',monospace\">Initialized MLflow to track repo <span style=\"color: #008000; text-decoration-color: #008000\">\"sinanshamsudheen/TLflow\"</span>\n",
       "</pre>\n"
      ],
      "text/plain": [
       "Initialized MLflow to track repo \u001b[32m\"sinanshamsudheen/TLflow\"\u001b[0m\n"
      ]
     },
     "metadata": {},
     "output_type": "display_data"
    },
    {
     "data": {
      "text/html": [
       "<pre style=\"white-space:pre;overflow-x:auto;line-height:normal;font-family:Menlo,'DejaVu Sans Mono',consolas,'Courier New',monospace\">Repository sinanshamsudheen/TLflow initialized!\n",
       "</pre>\n"
      ],
      "text/plain": [
       "Repository sinanshamsudheen/TLflow initialized!\n"
      ]
     },
     "metadata": {},
     "output_type": "display_data"
    }
   ],
   "source": [
    "import dagshub\n",
    "dagshub.init(repo_owner='sinanshamsudheen', repo_name='TLflow', mlflow=True)"
   ]
  },
  {
   "cell_type": "code",
   "execution_count": null,
   "id": "386a684e-0d65-4411-ba92-42a19456dafc",
   "metadata": {},
   "outputs": [],
   "source": []
  },
  {
   "cell_type": "code",
   "execution_count": 17,
   "id": "19af2b8c-afb4-410e-8b78-5a7591d6ebac",
   "metadata": {},
   "outputs": [],
   "source": [
    "# Ideally you will not require following 4 lines if you have started fresh and do not have any previous dagshub credentials on your computer\n",
    "# import os\n",
    "# os.environ['MLFLOW_TRACKING_USERNAME'] = 'your user name' # 'learnpythonlanguage'\n",
    "# os.environ['MLFLOW_TRACKING_PASSWORD'] = 'your password' # \n",
    "os.environ['MLFLOW_TRACKING_URI'] = 'https://dagshub.com/sinanshamsudheen/TLflow.mlflow' # https://dagshub.com/learnpythonlanguage/mlflow_dagshub_demo.mlflow\n",
    "\n",
    "# Initialize MLflow\n",
    "mlflow.set_experiment(\"Bruteforce Detection\")\n",
    "# mlflow.set_tracking_uri(\"http://localhost:5000\")\n",
    "\n",
    "for i, element in enumerate(models):\n",
    "    model_name = element[0]\n",
    "    params = element[1]\n",
    "    model = element[2]\n",
    "    report = reports[i]\n",
    "    \n",
    "    with mlflow.start_run(run_name=model_name):        \n",
    "        mlflow.log_params(params)\n",
    "        mlflow.log_metrics({\n",
    "            'accuracy': report['accuracy'],\n",
    "            'precision_class_1': report['1']['precision'],\n",
    "            'precision_class_0': report['0']['precision'],\n",
    "            'recall_class_1': report['1']['recall'],\n",
    "            'recall_class_0': report['0']['recall'],\n",
    "            'f1_score_macro': report['macro avg']['f1-score']\n",
    "        })  \n",
    "        \n",
    "        if \"XGB\" in model_name:\n",
    "            mlflow.xgboost.log_model(model, \"model\")\n",
    "        else:\n",
    "            mlflow.sklearn.log_model(model, \"model\")"
   ]
  },
  {
   "cell_type": "code",
   "execution_count": 18,
   "id": "78a58e05-924c-4f65-a132-7a4371ddab64",
   "metadata": {},
   "outputs": [
    {
     "name": "stdout",
     "output_type": "stream",
     "text": [
      "[{'0': {'precision': 0.9605911330049262, 'recall': 0.975, 'f1-score': 0.9677419354838709, 'support': 200.0}, '1': {'precision': 0.9746192893401016, 'recall': 0.96, 'f1-score': 0.9672544080604534, 'support': 200.0}, 'accuracy': 0.9675, 'macro avg': {'precision': 0.9676052111725139, 'recall': 0.9675, 'f1-score': 0.9674981717721621, 'support': 400.0}, 'weighted avg': {'precision': 0.9676052111725139, 'recall': 0.9675, 'f1-score': 0.9674981717721621, 'support': 400.0}}, {'0': {'precision': 0.964824120603015, 'recall': 0.96, 'f1-score': 0.9624060150375939, 'support': 200.0}, '1': {'precision': 0.9601990049751243, 'recall': 0.965, 'f1-score': 0.9625935162094762, 'support': 200.0}, 'accuracy': 0.9625, 'macro avg': {'precision': 0.9625115627890697, 'recall': 0.9624999999999999, 'f1-score': 0.962499765623535, 'support': 400.0}, 'weighted avg': {'precision': 0.9625115627890696, 'recall': 0.9625, 'f1-score': 0.9624997656235351, 'support': 400.0}}, {'0': {'precision': 0.9693877551020408, 'recall': 0.95, 'f1-score': 0.9595959595959594, 'support': 200.0}, '1': {'precision': 0.9509803921568627, 'recall': 0.97, 'f1-score': 0.9603960396039604, 'support': 200.0}, 'accuracy': 0.96, 'macro avg': {'precision': 0.9601840736294518, 'recall': 0.96, 'f1-score': 0.9599959995999598, 'support': 400.0}, 'weighted avg': {'precision': 0.9601840736294517, 'recall': 0.96, 'f1-score': 0.9599959995999598, 'support': 400.0}}]\n"
     ]
    }
   ],
   "source": [
    "print(reports)"
   ]
  },
  {
   "cell_type": "code",
   "execution_count": 19,
   "id": "81c8b305-7e78-4923-954a-2826fde7ed8e",
   "metadata": {},
   "outputs": [
    {
     "name": "stdout",
     "output_type": "stream",
     "text": [
      "Fitting 5 folds for each of 60 candidates, totalling 300 fits\n",
      "✅ Best Parameters: {'C': 1, 'max_iter': 1000, 'penalty': 'l2', 'solver': 'liblinear'}\n",
      "🏆 Best F1 Score (CV): 0.974368093365548\n",
      "\n",
      "📊 Classification Report on Test Set:\n",
      "\n",
      "              precision    recall  f1-score   support\n",
      "\n",
      "           0       0.96      0.97      0.97       200\n",
      "           1       0.97      0.96      0.97       200\n",
      "\n",
      "    accuracy                           0.97       400\n",
      "   macro avg       0.97      0.97      0.97       400\n",
      "weighted avg       0.97      0.97      0.97       400\n",
      "\n"
     ]
    }
   ],
   "source": [
    "from sklearn.linear_model import LogisticRegression\n",
    "from sklearn.model_selection import GridSearchCV\n",
    "from sklearn.metrics import classification_report\n",
    "\n",
    "# Logistic Regression model\n",
    "lr = LogisticRegression()\n",
    "\n",
    "# Define hyperparameter grid\n",
    "param_grid = {\n",
    "    'C': [0.01, 0.1, 1, 10, 100],                # Regularization strength\n",
    "    'penalty': ['l1', 'l2'],                     # Regularization type\n",
    "    'solver': ['liblinear', 'saga'],             # Solvers compatible with l1 and l2\n",
    "    'max_iter': [1000, 2000, 3000]                  # Max iterations\n",
    "}\n",
    "\n",
    "# GridSearchCV setup\n",
    "grid_search = GridSearchCV(\n",
    "    estimator=lr,\n",
    "    param_grid=param_grid,\n",
    "    cv=5,\n",
    "    scoring='f1',     # or 'accuracy', 'roc_auc', etc.\n",
    "    verbose=2,\n",
    "    n_jobs=-1\n",
    ")\n",
    "\n",
    "# Train on training set\n",
    "grid_search.fit(X_train, y_train)\n",
    "\n",
    "# Output best parameters and best score\n",
    "print(\"✅ Best Parameters:\", grid_search.best_params_)\n",
    "print(\"🏆 Best F1 Score (CV):\", grid_search.best_score_)\n",
    "\n",
    "# Predict on test set\n",
    "y_pred = grid_search.predict(X_test)\n",
    "\n",
    "# Evaluate performance\n",
    "print(\"\\n📊 Classification Report on Test Set:\\n\")\n",
    "print(classification_report(y_test, y_pred))\n"
   ]
  },
  {
   "cell_type": "code",
   "execution_count": 20,
   "id": "fe64b21c-24ca-45e6-ae30-cf71d6eb2494",
   "metadata": {},
   "outputs": [
    {
     "data": {
      "text/html": [
       "<style>#sk-container-id-1 {color: black;}#sk-container-id-1 pre{padding: 0;}#sk-container-id-1 div.sk-toggleable {background-color: white;}#sk-container-id-1 label.sk-toggleable__label {cursor: pointer;display: block;width: 100%;margin-bottom: 0;padding: 0.3em;box-sizing: border-box;text-align: center;}#sk-container-id-1 label.sk-toggleable__label-arrow:before {content: \"▸\";float: left;margin-right: 0.25em;color: #696969;}#sk-container-id-1 label.sk-toggleable__label-arrow:hover:before {color: black;}#sk-container-id-1 div.sk-estimator:hover label.sk-toggleable__label-arrow:before {color: black;}#sk-container-id-1 div.sk-toggleable__content {max-height: 0;max-width: 0;overflow: hidden;text-align: left;background-color: #f0f8ff;}#sk-container-id-1 div.sk-toggleable__content pre {margin: 0.2em;color: black;border-radius: 0.25em;background-color: #f0f8ff;}#sk-container-id-1 input.sk-toggleable__control:checked~div.sk-toggleable__content {max-height: 200px;max-width: 100%;overflow: auto;}#sk-container-id-1 input.sk-toggleable__control:checked~label.sk-toggleable__label-arrow:before {content: \"▾\";}#sk-container-id-1 div.sk-estimator input.sk-toggleable__control:checked~label.sk-toggleable__label {background-color: #d4ebff;}#sk-container-id-1 div.sk-label input.sk-toggleable__control:checked~label.sk-toggleable__label {background-color: #d4ebff;}#sk-container-id-1 input.sk-hidden--visually {border: 0;clip: rect(1px 1px 1px 1px);clip: rect(1px, 1px, 1px, 1px);height: 1px;margin: -1px;overflow: hidden;padding: 0;position: absolute;width: 1px;}#sk-container-id-1 div.sk-estimator {font-family: monospace;background-color: #f0f8ff;border: 1px dotted black;border-radius: 0.25em;box-sizing: border-box;margin-bottom: 0.5em;}#sk-container-id-1 div.sk-estimator:hover {background-color: #d4ebff;}#sk-container-id-1 div.sk-parallel-item::after {content: \"\";width: 100%;border-bottom: 1px solid gray;flex-grow: 1;}#sk-container-id-1 div.sk-label:hover label.sk-toggleable__label {background-color: #d4ebff;}#sk-container-id-1 div.sk-serial::before {content: \"\";position: absolute;border-left: 1px solid gray;box-sizing: border-box;top: 0;bottom: 0;left: 50%;z-index: 0;}#sk-container-id-1 div.sk-serial {display: flex;flex-direction: column;align-items: center;background-color: white;padding-right: 0.2em;padding-left: 0.2em;position: relative;}#sk-container-id-1 div.sk-item {position: relative;z-index: 1;}#sk-container-id-1 div.sk-parallel {display: flex;align-items: stretch;justify-content: center;background-color: white;position: relative;}#sk-container-id-1 div.sk-item::before, #sk-container-id-1 div.sk-parallel-item::before {content: \"\";position: absolute;border-left: 1px solid gray;box-sizing: border-box;top: 0;bottom: 0;left: 50%;z-index: -1;}#sk-container-id-1 div.sk-parallel-item {display: flex;flex-direction: column;z-index: 1;position: relative;background-color: white;}#sk-container-id-1 div.sk-parallel-item:first-child::after {align-self: flex-end;width: 50%;}#sk-container-id-1 div.sk-parallel-item:last-child::after {align-self: flex-start;width: 50%;}#sk-container-id-1 div.sk-parallel-item:only-child::after {width: 0;}#sk-container-id-1 div.sk-dashed-wrapped {border: 1px dashed gray;margin: 0 0.4em 0.5em 0.4em;box-sizing: border-box;padding-bottom: 0.4em;background-color: white;}#sk-container-id-1 div.sk-label label {font-family: monospace;font-weight: bold;display: inline-block;line-height: 1.2em;}#sk-container-id-1 div.sk-label-container {text-align: center;}#sk-container-id-1 div.sk-container {/* jupyter's `normalize.less` sets `[hidden] { display: none; }` but bootstrap.min.css set `[hidden] { display: none !important; }` so we also need the `!important` here to be able to override the default hidden behavior on the sphinx rendered scikit-learn.org. See: https://github.com/scikit-learn/scikit-learn/issues/21755 */display: inline-block !important;position: relative;}#sk-container-id-1 div.sk-text-repr-fallback {display: none;}</style><div id=\"sk-container-id-1\" class=\"sk-top-container\"><div class=\"sk-text-repr-fallback\"><pre>LogisticRegression(C=1, max_iter=1000, solver=&#x27;liblinear&#x27;)</pre><b>In a Jupyter environment, please rerun this cell to show the HTML representation or trust the notebook. <br />On GitHub, the HTML representation is unable to render, please try loading this page with nbviewer.org.</b></div><div class=\"sk-container\" hidden><div class=\"sk-item\"><div class=\"sk-estimator sk-toggleable\"><input class=\"sk-toggleable__control sk-hidden--visually\" id=\"sk-estimator-id-1\" type=\"checkbox\" checked><label for=\"sk-estimator-id-1\" class=\"sk-toggleable__label sk-toggleable__label-arrow\">LogisticRegression</label><div class=\"sk-toggleable__content\"><pre>LogisticRegression(C=1, max_iter=1000, solver=&#x27;liblinear&#x27;)</pre></div></div></div></div></div>"
      ],
      "text/plain": [
       "LogisticRegression(C=1, max_iter=1000, solver='liblinear')"
      ]
     },
     "execution_count": 20,
     "metadata": {},
     "output_type": "execute_result"
    }
   ],
   "source": [
    "model_LR = LogisticRegression(\n",
    "    C=1,\n",
    "    max_iter=1000,\n",
    "    penalty='l2',\n",
    "    solver='liblinear'\n",
    ")\n",
    "model_LR.fit(X_train, y_train)"
   ]
  },
  {
   "cell_type": "code",
   "execution_count": 21,
   "id": "0c4b1a89-5d0d-4971-9151-558b021892e0",
   "metadata": {},
   "outputs": [],
   "source": [
    "y_pred = model_LR.predict(X_test)"
   ]
  },
  {
   "cell_type": "code",
   "execution_count": 22,
   "id": "bb93af3a-d3ec-4145-9cb6-b78cf7fd3374",
   "metadata": {},
   "outputs": [
    {
     "name": "stdout",
     "output_type": "stream",
     "text": [
      "              precision    recall  f1-score   support\n",
      "\n",
      "           0       0.96      0.97      0.97       200\n",
      "           1       0.97      0.96      0.97       200\n",
      "\n",
      "    accuracy                           0.97       400\n",
      "   macro avg       0.97      0.97      0.97       400\n",
      "weighted avg       0.97      0.97      0.97       400\n",
      "\n"
     ]
    }
   ],
   "source": [
    "print(classification_report(y_test, y_pred))"
   ]
  },
  {
   "cell_type": "code",
   "execution_count": 23,
   "id": "19dbb14b-d746-4787-a982-d1cd3efa6dca",
   "metadata": {},
   "outputs": [
    {
     "data": {
      "text/plain": [
       "['bruteforce_model.pkl']"
      ]
     },
     "execution_count": 23,
     "metadata": {},
     "output_type": "execute_result"
    },
    {
     "name": "stdout",
     "output_type": "stream",
     "text": [
      "[CV] END C=0.01, max_iter=1000, penalty=l1, solver=liblinear; total time=   0.0s\n",
      "[CV] END .....C=0.01, max_iter=1000, penalty=l2, solver=saga; total time=   0.0s\n",
      "[CV] END C=0.01, max_iter=2000, penalty=l1, solver=liblinear; total time=   0.0s\n",
      "[CV] END C=0.01, max_iter=2000, penalty=l1, solver=liblinear; total time=   0.0s\n",
      "[CV] END C=0.01, max_iter=2000, penalty=l2, solver=liblinear; total time=   0.0s\n",
      "[CV] END C=0.01, max_iter=2000, penalty=l2, solver=liblinear; total time=   0.0s\n",
      "[CV] END .....C=0.01, max_iter=2000, penalty=l2, solver=saga; total time=   0.1s\n",
      "[CV] END C=0.01, max_iter=3000, penalty=l2, solver=liblinear; total time=   0.0s\n",
      "[CV] END .C=0.1, max_iter=1000, penalty=l1, solver=liblinear; total time=   0.0s\n",
      "[CV] END ......C=0.1, max_iter=1000, penalty=l1, solver=saga; total time=   0.1s\n",
      "[CV] END .C=0.1, max_iter=2000, penalty=l2, solver=liblinear; total time=   0.0s\n",
      "[CV] END .C=0.1, max_iter=2000, penalty=l2, solver=liblinear; total time=   0.0s\n",
      "[CV] END .C=0.1, max_iter=3000, penalty=l1, solver=liblinear; total time=   0.0s\n",
      "[CV] END .C=0.1, max_iter=3000, penalty=l1, solver=liblinear; total time=   0.0s\n",
      "[CV] END ......C=0.1, max_iter=3000, penalty=l1, solver=saga; total time=   0.1s\n",
      "[CV] END ......C=0.1, max_iter=3000, penalty=l1, solver=saga; total time=   0.1s\n",
      "[CV] END ........C=1, max_iter=2000, penalty=l2, solver=saga; total time=   0.1s\n",
      "[CV] END ........C=1, max_iter=2000, penalty=l2, solver=saga; total time=   0.1s\n",
      "[CV] END ........C=1, max_iter=2000, penalty=l2, solver=saga; total time=   0.1s\n",
      "[CV] END ........C=1, max_iter=2000, penalty=l2, solver=saga; total time=   0.1s\n",
      "[CV] END .......C=10, max_iter=2000, penalty=l2, solver=saga; total time=   0.1s\n",
      "[CV] END .......C=10, max_iter=3000, penalty=l1, solver=saga; total time=   0.2s\n",
      "[CV] END .C=100, max_iter=1000, penalty=l2, solver=liblinear; total time=   0.0s\n",
      "[CV] END .C=100, max_iter=1000, penalty=l2, solver=liblinear; total time=   0.0s\n",
      "[CV] END ......C=100, max_iter=1000, penalty=l2, solver=saga; total time=   0.1s\n",
      "[CV] END .C=100, max_iter=2000, penalty=l2, solver=liblinear; total time=   0.0s\n",
      "[CV] END ......C=100, max_iter=2000, penalty=l2, solver=saga; total time=   0.1s\n",
      "[CV] END .....C=0.01, max_iter=1000, penalty=l1, solver=saga; total time=   0.0s\n",
      "[CV] END .....C=0.01, max_iter=3000, penalty=l1, solver=saga; total time=   0.0s\n",
      "[CV] END .C=0.1, max_iter=1000, penalty=l1, solver=liblinear; total time=   0.0s\n",
      "[CV] END ......C=0.1, max_iter=1000, penalty=l1, solver=saga; total time=   0.1s\n",
      "[CV] END ......C=0.1, max_iter=2000, penalty=l1, solver=saga; total time=   0.1s\n",
      "[CV] END ......C=0.1, max_iter=2000, penalty=l1, solver=saga; total time=   0.1s\n",
      "[CV] END ...C=1, max_iter=1000, penalty=l2, solver=liblinear; total time=   0.0s\n",
      "[CV] END ...C=1, max_iter=1000, penalty=l2, solver=liblinear; total time=   0.0s\n",
      "[CV] END ...C=1, max_iter=1000, penalty=l2, solver=liblinear; total time=   0.0s\n",
      "[CV] END ........C=1, max_iter=1000, penalty=l2, solver=saga; total time=   0.1s\n",
      "[CV] END ........C=1, max_iter=3000, penalty=l2, solver=saga; total time=   0.1s\n",
      "[CV] END ........C=1, max_iter=3000, penalty=l2, solver=saga; total time=   0.1s\n",
      "[CV] END ........C=1, max_iter=3000, penalty=l2, solver=saga; total time=   0.1s\n",
      "[CV] END ........C=1, max_iter=3000, penalty=l2, solver=saga; total time=   0.1s\n",
      "[CV] END ..C=10, max_iter=3000, penalty=l1, solver=liblinear; total time=   0.0s\n",
      "[CV] END ..C=10, max_iter=3000, penalty=l1, solver=liblinear; total time=   0.0s\n",
      "[CV] END .......C=10, max_iter=3000, penalty=l1, solver=saga; total time=   0.2s\n",
      "[CV] END .C=100, max_iter=1000, penalty=l1, solver=liblinear; total time=   0.0s\n",
      "[CV] END .C=100, max_iter=1000, penalty=l1, solver=liblinear; total time=   0.0s\n",
      "[CV] END ......C=100, max_iter=1000, penalty=l1, solver=saga; total time=   0.1s\n",
      "[CV] END ......C=100, max_iter=2000, penalty=l1, solver=saga; total time=   0.2s\n",
      "[CV] END .C=100, max_iter=3000, penalty=l2, solver=liblinear; total time=   0.0s\n",
      "[CV] END .C=100, max_iter=3000, penalty=l2, solver=liblinear; total time=   0.0s\n",
      "[CV] END C=0.01, max_iter=1000, penalty=l2, solver=liblinear; total time=   0.0s\n",
      "[CV] END .C=0.1, max_iter=2000, penalty=l1, solver=liblinear; total time=   0.0s\n",
      "[CV] END .C=0.1, max_iter=2000, penalty=l1, solver=liblinear; total time=   0.0s\n",
      "[CV] END .C=0.1, max_iter=2000, penalty=l2, solver=liblinear; total time=   0.0s\n",
      "[CV] END ......C=0.1, max_iter=2000, penalty=l2, solver=saga; total time=   0.1s\n",
      "[CV] END ......C=0.1, max_iter=3000, penalty=l2, solver=saga; total time=   0.1s\n",
      "[CV] END ......C=0.1, max_iter=3000, penalty=l2, solver=saga; total time=   0.1s\n",
      "[CV] END ..C=10, max_iter=1000, penalty=l1, solver=liblinear; total time=   0.0s\n",
      "[CV] END ..C=10, max_iter=1000, penalty=l1, solver=liblinear; total time=   0.0s\n",
      "[CV] END ..C=10, max_iter=1000, penalty=l1, solver=liblinear; total time=   0.0s\n",
      "[CV] END ..C=10, max_iter=1000, penalty=l1, solver=liblinear; total time=   0.0s\n",
      "[CV] END ..C=10, max_iter=1000, penalty=l1, solver=liblinear; total time=   0.0s\n",
      "[CV] END .......C=10, max_iter=1000, penalty=l1, solver=saga; total time=   0.2s\n",
      "[CV] END .......C=10, max_iter=1000, penalty=l1, solver=saga; total time=   0.2s\n",
      "[CV] END .......C=10, max_iter=1000, penalty=l1, solver=saga; total time=   0.1s\n",
      "[CV] END .......C=10, max_iter=3000, penalty=l2, solver=saga; total time=   0.1s\n",
      "[CV] END ......C=100, max_iter=1000, penalty=l2, solver=saga; total time=   0.1s\n",
      "[CV] END .C=100, max_iter=2000, penalty=l2, solver=liblinear; total time=   0.0s\n",
      "[CV] END .C=100, max_iter=3000, penalty=l1, solver=liblinear; total time=   0.0s\n",
      "[CV] END .C=100, max_iter=3000, penalty=l1, solver=liblinear; total time=   0.0s\n",
      "[CV] END .C=100, max_iter=3000, penalty=l1, solver=liblinear; total time=   0.0s\n",
      "[CV] END .C=100, max_iter=3000, penalty=l1, solver=liblinear; total time=   0.0s\n",
      "[CV] END ......C=100, max_iter=3000, penalty=l1, solver=saga; total time=   0.1s\n",
      "[CV] END C=0.01, max_iter=1000, penalty=l1, solver=liblinear; total time=   0.0s\n",
      "[CV] END .....C=0.01, max_iter=1000, penalty=l2, solver=saga; total time=   0.1s\n",
      "[CV] END C=0.01, max_iter=2000, penalty=l1, solver=liblinear; total time=   0.0s\n",
      "[CV] END .....C=0.01, max_iter=2000, penalty=l1, solver=saga; total time=   0.0s\n",
      "[CV] END C=0.01, max_iter=2000, penalty=l2, solver=liblinear; total time=   0.0s\n",
      "[CV] END .....C=0.01, max_iter=2000, penalty=l2, solver=saga; total time=   0.0s\n",
      "[CV] END C=0.01, max_iter=3000, penalty=l1, solver=liblinear; total time=   0.0s\n",
      "[CV] END C=0.01, max_iter=3000, penalty=l2, solver=liblinear; total time=   0.0s\n",
      "[CV] END .....C=0.01, max_iter=3000, penalty=l2, solver=saga; total time=   0.0s\n",
      "[CV] END .C=0.1, max_iter=1000, penalty=l2, solver=liblinear; total time=   0.0s\n",
      "[CV] END ......C=0.1, max_iter=1000, penalty=l2, solver=saga; total time=   0.1s\n",
      "[CV] END ......C=0.1, max_iter=2000, penalty=l2, solver=saga; total time=   0.1s\n",
      "[CV] END ......C=0.1, max_iter=2000, penalty=l2, solver=saga; total time=   0.1s\n",
      "[CV] END ........C=1, max_iter=1000, penalty=l2, solver=saga; total time=   0.1s\n",
      "[CV] END ........C=1, max_iter=1000, penalty=l2, solver=saga; total time=   0.1s\n",
      "[CV] END ........C=1, max_iter=1000, penalty=l2, solver=saga; total time=   0.1s\n",
      "[CV] END ........C=1, max_iter=1000, penalty=l2, solver=saga; total time=   0.1s\n",
      "[CV] END ..C=10, max_iter=2000, penalty=l1, solver=liblinear; total time=   0.0s\n",
      "[CV] END .......C=10, max_iter=2000, penalty=l1, solver=saga; total time=   0.2s\n",
      "[CV] END .......C=10, max_iter=2000, penalty=l1, solver=saga; total time=   0.2s\n",
      "[CV] END .......C=10, max_iter=2000, penalty=l1, solver=saga; total time=   0.1s\n",
      "[CV] END .C=100, max_iter=2000, penalty=l1, solver=liblinear; total time=   0.0s\n",
      "[CV] END .C=100, max_iter=2000, penalty=l1, solver=liblinear; total time=   0.0s\n",
      "[CV] END .C=100, max_iter=2000, penalty=l1, solver=liblinear; total time=   0.0s\n",
      "[CV] END ......C=100, max_iter=2000, penalty=l1, solver=saga; total time=   0.1s\n",
      "[CV] END ......C=100, max_iter=3000, penalty=l1, solver=saga; total time=   0.1s\n",
      "[CV] END C=0.01, max_iter=1000, penalty=l1, solver=liblinear; total time=   0.0s\n",
      "[CV] END .....C=0.01, max_iter=1000, penalty=l2, solver=saga; total time=   0.0s\n",
      "[CV] END C=0.01, max_iter=2000, penalty=l1, solver=liblinear; total time=   0.0s\n",
      "[CV] END C=0.01, max_iter=2000, penalty=l1, solver=liblinear; total time=   0.0s\n",
      "[CV] END .....C=0.01, max_iter=2000, penalty=l1, solver=saga; total time=   0.0s\n",
      "[CV] END .....C=0.01, max_iter=2000, penalty=l2, solver=saga; total time=   0.0s\n",
      "[CV] END C=0.01, max_iter=3000, penalty=l2, solver=liblinear; total time=   0.0s\n",
      "[CV] END C=0.01, max_iter=3000, penalty=l2, solver=liblinear; total time=   0.0s\n",
      "[CV] END .C=0.1, max_iter=1000, penalty=l1, solver=liblinear; total time=   0.0s\n",
      "[CV] END ......C=0.1, max_iter=1000, penalty=l1, solver=saga; total time=   0.1s\n",
      "[CV] END .C=0.1, max_iter=2000, penalty=l2, solver=liblinear; total time=   0.0s\n",
      "[CV] END .C=0.1, max_iter=2000, penalty=l2, solver=liblinear; total time=   0.0s\n",
      "[CV] END .C=0.1, max_iter=3000, penalty=l1, solver=liblinear; total time=   0.0s\n",
      "[CV] END .C=0.1, max_iter=3000, penalty=l1, solver=liblinear; total time=   0.0s\n",
      "[CV] END .C=0.1, max_iter=3000, penalty=l1, solver=liblinear; total time=   0.0s\n",
      "[CV] END ......C=0.1, max_iter=3000, penalty=l1, solver=saga; total time=   0.1s\n",
      "[CV] END ........C=1, max_iter=1000, penalty=l1, solver=saga; total time=   0.1s\n",
      "[CV] END ........C=1, max_iter=1000, penalty=l1, solver=saga; total time=   0.1s\n",
      "[CV] END ...C=1, max_iter=1000, penalty=l2, solver=liblinear; total time=   0.0s\n",
      "[CV] END ...C=1, max_iter=1000, penalty=l2, solver=liblinear; total time=   0.0s\n",
      "[CV] END .......C=10, max_iter=1000, penalty=l2, solver=saga; total time=   0.1s\n",
      "[CV] END .......C=10, max_iter=1000, penalty=l2, solver=saga; total time=   0.1s\n",
      "[CV] END .......C=10, max_iter=1000, penalty=l2, solver=saga; total time=   0.1s\n",
      "[CV] END .......C=10, max_iter=1000, penalty=l2, solver=saga; total time=   0.1s\n",
      "[CV] END ......C=100, max_iter=1000, penalty=l2, solver=saga; total time=   0.2s\n",
      "[CV] END .C=100, max_iter=3000, penalty=l1, solver=liblinear; total time=   0.0s\n",
      "[CV] END ......C=100, max_iter=3000, penalty=l1, solver=saga; total time=   0.2s\n",
      "[CV] END .....C=0.01, max_iter=1000, penalty=l1, solver=saga; total time=   0.0s\n",
      "[CV] END .C=0.1, max_iter=1000, penalty=l1, solver=liblinear; total time=   0.0s\n",
      "[CV] END .C=0.1, max_iter=1000, penalty=l2, solver=liblinear; total time=   0.0s\n",
      "[CV] END .C=0.1, max_iter=2000, penalty=l1, solver=liblinear; total time=   0.0s\n",
      "[CV] END .C=0.1, max_iter=2000, penalty=l1, solver=liblinear; total time=   0.0s\n",
      "[CV] END ......C=0.1, max_iter=2000, penalty=l1, solver=saga; total time=   0.1s\n",
      "[CV] END ......C=0.1, max_iter=2000, penalty=l1, solver=saga; total time=   0.1s\n",
      "[CV] END ...C=1, max_iter=1000, penalty=l1, solver=liblinear; total time=   0.0s\n",
      "[CV] END ........C=1, max_iter=1000, penalty=l1, solver=saga; total time=   0.2s\n",
      "[CV] END ........C=1, max_iter=1000, penalty=l1, solver=saga; total time=   0.1s\n",
      "[CV] END ........C=1, max_iter=1000, penalty=l1, solver=saga; total time=   0.1s\n",
      "[CV] END .......C=10, max_iter=2000, penalty=l2, solver=saga; total time=   0.1s\n",
      "[CV] END ..C=10, max_iter=3000, penalty=l2, solver=liblinear; total time=   0.0s\n",
      "[CV] END ..C=10, max_iter=3000, penalty=l2, solver=liblinear; total time=   0.0s\n",
      "[CV] END .......C=10, max_iter=3000, penalty=l2, solver=saga; total time=   0.1s\n",
      "[CV] END ......C=100, max_iter=1000, penalty=l1, solver=saga; total time=   0.1s\n",
      "[CV] END ......C=100, max_iter=2000, penalty=l1, solver=saga; total time=   0.1s\n",
      "[CV] END ......C=100, max_iter=3000, penalty=l1, solver=saga; total time=   0.1s\n",
      "[CV] END C=0.01, max_iter=1000, penalty=l2, solver=liblinear; total time=   0.0s\n",
      "[CV] END ...C=1, max_iter=2000, penalty=l1, solver=liblinear; total time=   0.0s\n",
      "[CV] END ........C=1, max_iter=2000, penalty=l1, solver=saga; total time=   0.1s\n",
      "[CV] END ........C=1, max_iter=2000, penalty=l1, solver=saga; total time=   0.1s\n",
      "[CV] END ........C=1, max_iter=2000, penalty=l1, solver=saga; total time=   0.1s\n",
      "[CV] END .......C=10, max_iter=2000, penalty=l2, solver=saga; total time=   0.2s\n",
      "[CV] END .......C=10, max_iter=3000, penalty=l2, solver=saga; total time=   0.1s\n",
      "[CV] END .C=100, max_iter=1000, penalty=l2, solver=liblinear; total time=   0.0s\n",
      "[CV] END ......C=100, max_iter=1000, penalty=l2, solver=saga; total time=   0.1s\n",
      "[CV] END ......C=100, max_iter=2000, penalty=l2, solver=saga; total time=   0.1s\n",
      "[CV] END ......C=100, max_iter=3000, penalty=l2, solver=saga; total time=   0.1s\n",
      "[CV] END .....C=0.01, max_iter=1000, penalty=l1, solver=saga; total time=   0.0s\n",
      "[CV] END C=0.01, max_iter=1000, penalty=l2, solver=liblinear; total time=   0.0s\n",
      "[CV] END C=0.01, max_iter=1000, penalty=l2, solver=liblinear; total time=   0.0s\n",
      "[CV] END C=0.01, max_iter=1000, penalty=l2, solver=liblinear; total time=   0.0s\n",
      "[CV] END .....C=0.01, max_iter=1000, penalty=l2, solver=saga; total time=   0.0s\n",
      "[CV] END .....C=0.01, max_iter=1000, penalty=l2, solver=saga; total time=   0.0s\n",
      "[CV] END .....C=0.01, max_iter=2000, penalty=l1, solver=saga; total time=   0.1s\n",
      "[CV] END C=0.01, max_iter=3000, penalty=l1, solver=liblinear; total time=   0.0s\n",
      "[CV] END .....C=0.01, max_iter=3000, penalty=l1, solver=saga; total time=   0.0s\n",
      "[CV] END .....C=0.01, max_iter=3000, penalty=l2, solver=saga; total time=   0.0s\n",
      "[CV] END .C=0.1, max_iter=1000, penalty=l2, solver=liblinear; total time=   0.0s\n",
      "[CV] END .C=0.1, max_iter=1000, penalty=l2, solver=liblinear; total time=   0.0s\n",
      "[CV] END .C=0.1, max_iter=2000, penalty=l1, solver=liblinear; total time=   0.0s\n",
      "[CV] END ......C=0.1, max_iter=2000, penalty=l1, solver=saga; total time=   0.1s\n",
      "[CV] END .C=0.1, max_iter=3000, penalty=l2, solver=liblinear; total time=   0.0s\n",
      "[CV] END ......C=0.1, max_iter=3000, penalty=l2, solver=saga; total time=   0.1s\n",
      "[CV] END ........C=1, max_iter=2000, penalty=l1, solver=saga; total time=   0.1s\n",
      "[CV] END ........C=1, max_iter=2000, penalty=l1, solver=saga; total time=   0.2s\n",
      "[CV] END ...C=1, max_iter=2000, penalty=l2, solver=liblinear; total time=   0.0s\n",
      "[CV] END ...C=1, max_iter=2000, penalty=l2, solver=liblinear; total time=   0.0s\n",
      "[CV] END ..C=10, max_iter=2000, penalty=l1, solver=liblinear; total time=   0.0s\n",
      "[CV] END ..C=10, max_iter=2000, penalty=l1, solver=liblinear; total time=   0.0s\n",
      "[CV] END ..C=10, max_iter=2000, penalty=l1, solver=liblinear; total time=   0.0s\n",
      "[CV] END ..C=10, max_iter=2000, penalty=l1, solver=liblinear; total time=   0.0s\n",
      "[CV] END ..C=10, max_iter=2000, penalty=l2, solver=liblinear; total time=   0.0s\n",
      "[CV] END ..C=10, max_iter=2000, penalty=l2, solver=liblinear; total time=   0.0s\n",
      "[CV] END ..C=10, max_iter=2000, penalty=l2, solver=liblinear; total time=   0.0s\n",
      "[CV] END .......C=10, max_iter=2000, penalty=l2, solver=saga; total time=   0.1s\n",
      "[CV] END ..C=10, max_iter=3000, penalty=l2, solver=liblinear; total time=   0.0s\n",
      "[CV] END ..C=10, max_iter=3000, penalty=l2, solver=liblinear; total time=   0.0s\n",
      "[CV] END ..C=10, max_iter=3000, penalty=l2, solver=liblinear; total time=   0.0s\n",
      "[CV] END .......C=10, max_iter=3000, penalty=l2, solver=saga; total time=   0.1s\n",
      "[CV] END ......C=100, max_iter=1000, penalty=l1, solver=saga; total time=   0.2s\n",
      "[CV] END ......C=100, max_iter=2000, penalty=l2, solver=saga; total time=   0.1s\n",
      "[CV] END .C=100, max_iter=3000, penalty=l2, solver=liblinear; total time=   0.0s\n",
      "[CV] END ......C=100, max_iter=3000, penalty=l2, solver=saga; total time=   0.1s\n",
      "[CV] END C=0.01, max_iter=1000, penalty=l1, solver=liblinear; total time=   0.0s\n",
      "[CV] END C=0.01, max_iter=2000, penalty=l2, solver=liblinear; total time=   0.0s\n",
      "[CV] END .....C=0.01, max_iter=2000, penalty=l2, solver=saga; total time=   0.0s\n",
      "[CV] END C=0.01, max_iter=3000, penalty=l1, solver=liblinear; total time=   0.0s\n",
      "[CV] END .....C=0.01, max_iter=3000, penalty=l1, solver=saga; total time=   0.0s\n",
      "[CV] END .....C=0.01, max_iter=3000, penalty=l2, solver=saga; total time=   0.0s\n",
      "[CV] END .C=0.1, max_iter=1000, penalty=l2, solver=liblinear; total time=   0.0s\n",
      "[CV] END ......C=0.1, max_iter=1000, penalty=l2, solver=saga; total time=   0.1s\n",
      "[CV] END ......C=0.1, max_iter=1000, penalty=l2, solver=saga; total time=   0.1s\n",
      "[CV] END ...C=1, max_iter=1000, penalty=l1, solver=liblinear; total time=   0.0s\n",
      "[CV] END ...C=1, max_iter=1000, penalty=l1, solver=liblinear; total time=   0.0s\n",
      "[CV] END ...C=1, max_iter=1000, penalty=l1, solver=liblinear; total time=   0.0s\n",
      "[CV] END ...C=1, max_iter=1000, penalty=l1, solver=liblinear; total time=   0.0s\n",
      "[CV] END ...C=1, max_iter=2000, penalty=l2, solver=liblinear; total time=   0.0s\n",
      "[CV] END ...C=1, max_iter=2000, penalty=l2, solver=liblinear; total time=   0.0s\n",
      "[CV] END ...C=1, max_iter=2000, penalty=l2, solver=liblinear; total time=   0.0s\n",
      "[CV] END ........C=1, max_iter=2000, penalty=l2, solver=saga; total time=   0.1s\n",
      "[CV] END .......C=10, max_iter=1000, penalty=l1, solver=saga; total time=   0.1s\n",
      "[CV] END .......C=10, max_iter=1000, penalty=l1, solver=saga; total time=   0.2s\n",
      "[CV] END ..C=10, max_iter=1000, penalty=l2, solver=liblinear; total time=   0.0s\n",
      "[CV] END ..C=10, max_iter=1000, penalty=l2, solver=liblinear; total time=   0.0s\n",
      "[CV] END .......C=10, max_iter=3000, penalty=l1, solver=saga; total time=   0.2s\n",
      "[CV] END .C=100, max_iter=1000, penalty=l1, solver=liblinear; total time=   0.0s\n",
      "[CV] END ......C=100, max_iter=1000, penalty=l1, solver=saga; total time=   0.2s\n",
      "[CV] END .C=100, max_iter=2000, penalty=l2, solver=liblinear; total time=   0.0s\n",
      "[CV] END .C=100, max_iter=2000, penalty=l2, solver=liblinear; total time=   0.0s\n",
      "[CV] END ......C=100, max_iter=2000, penalty=l2, solver=saga; total time=   0.1s\n",
      "[CV] END .C=100, max_iter=3000, penalty=l2, solver=liblinear; total time=   0.0s\n",
      "[CV] END ......C=100, max_iter=3000, penalty=l2, solver=saga; total time=   0.1s\n",
      "[CV] END .....C=0.01, max_iter=1000, penalty=l1, solver=saga; total time=   0.0s\n",
      "[CV] END .....C=0.01, max_iter=2000, penalty=l1, solver=saga; total time=   0.0s\n",
      "[CV] END C=0.01, max_iter=2000, penalty=l2, solver=liblinear; total time=   0.0s\n",
      "[CV] END C=0.01, max_iter=3000, penalty=l1, solver=liblinear; total time=   0.0s\n",
      "[CV] END C=0.01, max_iter=3000, penalty=l1, solver=liblinear; total time=   0.0s\n",
      "[CV] END C=0.01, max_iter=3000, penalty=l2, solver=liblinear; total time=   0.0s\n",
      "[CV] END .....C=0.01, max_iter=3000, penalty=l2, solver=saga; total time=   0.1s\n",
      "[CV] END ......C=0.1, max_iter=1000, penalty=l2, solver=saga; total time=   0.1s\n",
      "[CV] END ......C=0.1, max_iter=1000, penalty=l2, solver=saga; total time=   0.1s\n",
      "[CV] END .C=0.1, max_iter=3000, penalty=l2, solver=liblinear; total time=   0.0s\n",
      "[CV] END .C=0.1, max_iter=3000, penalty=l2, solver=liblinear; total time=   0.0s\n",
      "[CV] END .C=0.1, max_iter=3000, penalty=l2, solver=liblinear; total time=   0.0s\n",
      "[CV] END .C=0.1, max_iter=3000, penalty=l2, solver=liblinear; total time=   0.0s\n",
      "[CV] END ......C=0.1, max_iter=3000, penalty=l2, solver=saga; total time=   0.1s\n",
      "[CV] END ......C=0.1, max_iter=3000, penalty=l2, solver=saga; total time=   0.1s\n",
      "[CV] END ...C=1, max_iter=3000, penalty=l2, solver=liblinear; total time=   0.0s\n",
      "[CV] END ...C=1, max_iter=3000, penalty=l2, solver=liblinear; total time=   0.0s\n",
      "[CV] END ...C=1, max_iter=3000, penalty=l2, solver=liblinear; total time=   0.0s\n",
      "[CV] END ........C=1, max_iter=3000, penalty=l2, solver=saga; total time=   0.1s\n",
      "[CV] END ..C=10, max_iter=1000, penalty=l2, solver=liblinear; total time=   0.0s\n",
      "[CV] END ..C=10, max_iter=1000, penalty=l2, solver=liblinear; total time=   0.0s\n",
      "[CV] END ..C=10, max_iter=1000, penalty=l2, solver=liblinear; total time=   0.0s\n",
      "[CV] END .......C=10, max_iter=1000, penalty=l2, solver=saga; total time=   0.1s\n",
      "[CV] END .......C=10, max_iter=2000, penalty=l1, solver=saga; total time=   0.1s\n",
      "[CV] END .......C=10, max_iter=2000, penalty=l1, solver=saga; total time=   0.2s\n",
      "[CV] END ..C=10, max_iter=2000, penalty=l2, solver=liblinear; total time=   0.0s\n",
      "[CV] END ..C=10, max_iter=2000, penalty=l2, solver=liblinear; total time=   0.0s\n",
      "[CV] END .C=100, max_iter=1000, penalty=l2, solver=liblinear; total time=   0.0s\n",
      "[CV] END .C=100, max_iter=1000, penalty=l2, solver=liblinear; total time=   0.0s\n",
      "[CV] END ......C=100, max_iter=1000, penalty=l2, solver=saga; total time=   0.1s\n",
      "[CV] END .C=100, max_iter=2000, penalty=l2, solver=liblinear; total time=   0.0s\n",
      "[CV] END ......C=100, max_iter=2000, penalty=l2, solver=saga; total time=   0.1s\n",
      "[CV] END .C=100, max_iter=3000, penalty=l2, solver=liblinear; total time=   0.0s\n",
      "[CV] END ......C=100, max_iter=3000, penalty=l2, solver=saga; total time=   0.1s\n",
      "[CV] END C=0.01, max_iter=1000, penalty=l1, solver=liblinear; total time=   0.0s\n",
      "[CV] END .....C=0.01, max_iter=2000, penalty=l1, solver=saga; total time=   0.0s\n",
      "[CV] END .....C=0.01, max_iter=2000, penalty=l2, solver=saga; total time=   0.0s\n",
      "[CV] END .....C=0.01, max_iter=3000, penalty=l1, solver=saga; total time=   0.0s\n",
      "[CV] END .....C=0.01, max_iter=3000, penalty=l2, solver=saga; total time=   0.0s\n",
      "[CV] END ......C=0.1, max_iter=1000, penalty=l1, solver=saga; total time=   0.1s\n",
      "[CV] END ......C=0.1, max_iter=2000, penalty=l2, solver=saga; total time=   0.1s\n",
      "[CV] END ......C=0.1, max_iter=2000, penalty=l2, solver=saga; total time=   0.1s\n",
      "[CV] END ...C=1, max_iter=2000, penalty=l1, solver=liblinear; total time=   0.0s\n",
      "[CV] END ...C=1, max_iter=2000, penalty=l1, solver=liblinear; total time=   0.0s\n",
      "[CV] END ...C=1, max_iter=2000, penalty=l1, solver=liblinear; total time=   0.0s\n",
      "[CV] END ...C=1, max_iter=2000, penalty=l1, solver=liblinear; total time=   0.0s\n",
      "[CV] END ...C=1, max_iter=3000, penalty=l1, solver=liblinear; total time=   0.0s\n",
      "[CV] END ...C=1, max_iter=3000, penalty=l1, solver=liblinear; total time=   0.0s\n",
      "[CV] END ...C=1, max_iter=3000, penalty=l1, solver=liblinear; total time=   0.0s\n",
      "[CV] END ...C=1, max_iter=3000, penalty=l1, solver=liblinear; total time=   0.0s\n",
      "[CV] END ........C=1, max_iter=3000, penalty=l1, solver=saga; total time=   0.1s\n",
      "[CV] END ........C=1, max_iter=3000, penalty=l1, solver=saga; total time=   0.1s\n",
      "[CV] END ...C=1, max_iter=3000, penalty=l2, solver=liblinear; total time=   0.0s\n",
      "[CV] END ...C=1, max_iter=3000, penalty=l2, solver=liblinear; total time=   0.0s\n",
      "[CV] END .......C=10, max_iter=2000, penalty=l2, solver=saga; total time=   0.1s\n",
      "[CV] END .......C=10, max_iter=3000, penalty=l1, solver=saga; total time=   0.1s\n",
      "[CV] END .......C=10, max_iter=3000, penalty=l2, solver=saga; total time=   0.1s\n",
      "[CV] END .C=100, max_iter=2000, penalty=l1, solver=liblinear; total time=   0.0s\n",
      "[CV] END .C=100, max_iter=2000, penalty=l1, solver=liblinear; total time=   0.0s\n",
      "[CV] END ......C=100, max_iter=2000, penalty=l1, solver=saga; total time=   0.2s\n",
      "[CV] END ......C=100, max_iter=3000, penalty=l1, solver=saga; total time=   0.1s\n",
      "[CV] END .....C=0.01, max_iter=1000, penalty=l1, solver=saga; total time=   0.0s\n",
      "[CV] END .....C=0.01, max_iter=3000, penalty=l1, solver=saga; total time=   0.0s\n",
      "[CV] END .C=0.1, max_iter=1000, penalty=l1, solver=liblinear; total time=   0.0s\n",
      "[CV] END ......C=0.1, max_iter=1000, penalty=l1, solver=saga; total time=   0.1s\n",
      "[CV] END ......C=0.1, max_iter=3000, penalty=l1, solver=saga; total time=   0.1s\n",
      "[CV] END ......C=0.1, max_iter=3000, penalty=l1, solver=saga; total time=   0.1s\n",
      "[CV] END ...C=1, max_iter=3000, penalty=l1, solver=liblinear; total time=   0.0s\n",
      "[CV] END ........C=1, max_iter=3000, penalty=l1, solver=saga; total time=   0.1s\n",
      "[CV] END ........C=1, max_iter=3000, penalty=l1, solver=saga; total time=   0.1s\n",
      "[CV] END ........C=1, max_iter=3000, penalty=l1, solver=saga; total time=   0.1s\n",
      "[CV] END ..C=10, max_iter=3000, penalty=l1, solver=liblinear; total time=   0.0s\n",
      "[CV] END ..C=10, max_iter=3000, penalty=l1, solver=liblinear; total time=   0.0s\n",
      "[CV] END ..C=10, max_iter=3000, penalty=l1, solver=liblinear; total time=   0.0s\n",
      "[CV] END .......C=10, max_iter=3000, penalty=l1, solver=saga; total time=   0.1s\n",
      "[CV] END .C=100, max_iter=1000, penalty=l1, solver=liblinear; total time=   0.0s\n",
      "[CV] END .C=100, max_iter=1000, penalty=l1, solver=liblinear; total time=   0.0s\n",
      "[CV] END ......C=100, max_iter=1000, penalty=l1, solver=saga; total time=   0.2s\n",
      "[CV] END ......C=100, max_iter=2000, penalty=l1, solver=saga; total time=   0.2s\n",
      "[CV] END ......C=100, max_iter=3000, penalty=l2, solver=saga; total time=   0.1s\n"
     ]
    }
   ],
   "source": [
    "import joblib\n",
    "joblib.dump(model_LR, 'bruteforce_model.pkl')"
   ]
  },
  {
   "cell_type": "code",
   "execution_count": 24,
   "id": "9cc3511f-454a-4326-bc8f-35adffbf11ed",
   "metadata": {},
   "outputs": [
    {
     "data": {
      "text/plain": [
       "Index(['attempts_in_30s', 'unique_users_in_30s', 'invalid_user',\n",
       "       'success_after_fail', 'event_success'],\n",
       "      dtype='object')"
      ]
     },
     "execution_count": 24,
     "metadata": {},
     "output_type": "execute_result"
    }
   ],
   "source": [
    "X.columns"
   ]
  },
  {
   "cell_type": "code",
   "execution_count": null,
   "id": "429e8d1d-8770-46ba-942d-20079f95e523",
   "metadata": {},
   "outputs": [],
   "source": []
  }
 ],
 "metadata": {
  "kernelspec": {
   "display_name": "Python (VSC venv)",
   "language": "python",
   "name": "vsc-venv"
  },
  "language_info": {
   "codemirror_mode": {
    "name": "ipython",
    "version": 3
   },
   "file_extension": ".py",
   "mimetype": "text/x-python",
   "name": "python",
   "nbconvert_exporter": "python",
   "pygments_lexer": "ipython3",
   "version": "3.10.10"
  }
 },
 "nbformat": 4,
 "nbformat_minor": 5
}
