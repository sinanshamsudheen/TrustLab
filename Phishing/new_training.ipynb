{
 "cells": [
  {
   "cell_type": "code",
   "execution_count": 100,
   "id": "a7ace044-922a-4ed1-a3ef-54f69baac63a",
   "metadata": {},
   "outputs": [],
   "source": [
    "import pandas as pd\n",
    "import numpy as np\n",
    "from sklearn.model_selection import train_test_split\n",
    "import matplotlib.pyplot as plt\n",
    "import seaborn as sns\n",
    "from sklearn.metrics import confusion_matrix\n",
    "from sklearn.linear_model import LogisticRegression\n",
    "from sklearn.metrics import classification_report\n",
    "import os\n",
    "import psutil\n",
    "import joblib\n",
    "%matplotlib inline"
   ]
  },
  {
   "cell_type": "code",
   "execution_count": 82,
   "id": "f87a0eb8-d684-4fa6-ad88-8b61e1d3dfa4",
   "metadata": {},
   "outputs": [],
   "source": [
    "df = pd.read_csv('phishing_with_features.csv')"
   ]
  },
  {
   "cell_type": "code",
   "execution_count": 83,
   "id": "329d82be-e918-4b6d-871b-8e18eb1a6bc6",
   "metadata": {},
   "outputs": [],
   "source": [
    "df['status']=df.type.apply(lambda x: 1 if x=='phishing' else 0)"
   ]
  },
  {
   "cell_type": "code",
   "execution_count": 84,
   "id": "d4012a02-9efe-44d8-a35c-5f990c93cf36",
   "metadata": {},
   "outputs": [
    {
     "data": {
      "text/html": [
       "<div>\n",
       "<style scoped>\n",
       "    .dataframe tbody tr th:only-of-type {\n",
       "        vertical-align: middle;\n",
       "    }\n",
       "\n",
       "    .dataframe tbody tr th {\n",
       "        vertical-align: top;\n",
       "    }\n",
       "\n",
       "    .dataframe thead th {\n",
       "        text-align: right;\n",
       "    }\n",
       "</style>\n",
       "<table border=\"1\" class=\"dataframe\">\n",
       "  <thead>\n",
       "    <tr style=\"text-align: right;\">\n",
       "      <th></th>\n",
       "      <th>url</th>\n",
       "      <th>type</th>\n",
       "      <th>url_length</th>\n",
       "      <th>hostname_length</th>\n",
       "      <th>path_length</th>\n",
       "      <th>has_ip</th>\n",
       "      <th>has_at_symbol</th>\n",
       "      <th>count_dots</th>\n",
       "      <th>count_hyphens</th>\n",
       "      <th>count_slashes</th>\n",
       "      <th>uses_https</th>\n",
       "      <th>suspicious_words</th>\n",
       "      <th>domain</th>\n",
       "      <th>suffix</th>\n",
       "      <th>status</th>\n",
       "    </tr>\n",
       "  </thead>\n",
       "  <tbody>\n",
       "    <tr>\n",
       "      <th>0</th>\n",
       "      <td>https://www.google.com</td>\n",
       "      <td>legitimate</td>\n",
       "      <td>22</td>\n",
       "      <td>14</td>\n",
       "      <td>0</td>\n",
       "      <td>False</td>\n",
       "      <td>False</td>\n",
       "      <td>2</td>\n",
       "      <td>0</td>\n",
       "      <td>2</td>\n",
       "      <td>True</td>\n",
       "      <td>0</td>\n",
       "      <td>google</td>\n",
       "      <td>com</td>\n",
       "      <td>0</td>\n",
       "    </tr>\n",
       "    <tr>\n",
       "      <th>1</th>\n",
       "      <td>https://www.youtube.com</td>\n",
       "      <td>legitimate</td>\n",
       "      <td>23</td>\n",
       "      <td>15</td>\n",
       "      <td>0</td>\n",
       "      <td>False</td>\n",
       "      <td>False</td>\n",
       "      <td>2</td>\n",
       "      <td>0</td>\n",
       "      <td>2</td>\n",
       "      <td>True</td>\n",
       "      <td>0</td>\n",
       "      <td>youtube</td>\n",
       "      <td>com</td>\n",
       "      <td>0</td>\n",
       "    </tr>\n",
       "    <tr>\n",
       "      <th>2</th>\n",
       "      <td>https://www.facebook.com</td>\n",
       "      <td>legitimate</td>\n",
       "      <td>24</td>\n",
       "      <td>16</td>\n",
       "      <td>0</td>\n",
       "      <td>False</td>\n",
       "      <td>False</td>\n",
       "      <td>2</td>\n",
       "      <td>0</td>\n",
       "      <td>2</td>\n",
       "      <td>True</td>\n",
       "      <td>0</td>\n",
       "      <td>facebook</td>\n",
       "      <td>com</td>\n",
       "      <td>0</td>\n",
       "    </tr>\n",
       "    <tr>\n",
       "      <th>3</th>\n",
       "      <td>https://www.baidu.com</td>\n",
       "      <td>legitimate</td>\n",
       "      <td>21</td>\n",
       "      <td>13</td>\n",
       "      <td>0</td>\n",
       "      <td>False</td>\n",
       "      <td>False</td>\n",
       "      <td>2</td>\n",
       "      <td>0</td>\n",
       "      <td>2</td>\n",
       "      <td>True</td>\n",
       "      <td>0</td>\n",
       "      <td>baidu</td>\n",
       "      <td>com</td>\n",
       "      <td>0</td>\n",
       "    </tr>\n",
       "    <tr>\n",
       "      <th>4</th>\n",
       "      <td>https://www.wikipedia.org</td>\n",
       "      <td>legitimate</td>\n",
       "      <td>25</td>\n",
       "      <td>17</td>\n",
       "      <td>0</td>\n",
       "      <td>False</td>\n",
       "      <td>False</td>\n",
       "      <td>2</td>\n",
       "      <td>0</td>\n",
       "      <td>2</td>\n",
       "      <td>True</td>\n",
       "      <td>0</td>\n",
       "      <td>wikipedia</td>\n",
       "      <td>org</td>\n",
       "      <td>0</td>\n",
       "    </tr>\n",
       "  </tbody>\n",
       "</table>\n",
       "</div>"
      ],
      "text/plain": [
       "                         url        type  url_length  hostname_length  \\\n",
       "0     https://www.google.com  legitimate          22               14   \n",
       "1    https://www.youtube.com  legitimate          23               15   \n",
       "2   https://www.facebook.com  legitimate          24               16   \n",
       "3      https://www.baidu.com  legitimate          21               13   \n",
       "4  https://www.wikipedia.org  legitimate          25               17   \n",
       "\n",
       "   path_length  has_ip  has_at_symbol  count_dots  count_hyphens  \\\n",
       "0            0   False          False           2              0   \n",
       "1            0   False          False           2              0   \n",
       "2            0   False          False           2              0   \n",
       "3            0   False          False           2              0   \n",
       "4            0   False          False           2              0   \n",
       "\n",
       "   count_slashes  uses_https  suspicious_words     domain suffix  status  \n",
       "0              2        True                 0     google    com       0  \n",
       "1              2        True                 0    youtube    com       0  \n",
       "2              2        True                 0   facebook    com       0  \n",
       "3              2        True                 0      baidu    com       0  \n",
       "4              2        True                 0  wikipedia    org       0  "
      ]
     },
     "execution_count": 84,
     "metadata": {},
     "output_type": "execute_result"
    }
   ],
   "source": [
    "df.head()"
   ]
  },
  {
   "cell_type": "code",
   "execution_count": 85,
   "id": "22a155e0-8369-4ae2-96ae-8302c4d00f55",
   "metadata": {},
   "outputs": [
    {
     "data": {
      "text/plain": [
       "url                 object\n",
       "type                object\n",
       "url_length           int64\n",
       "hostname_length      int64\n",
       "path_length          int64\n",
       "has_ip                bool\n",
       "has_at_symbol         bool\n",
       "count_dots           int64\n",
       "count_hyphens        int64\n",
       "count_slashes        int64\n",
       "uses_https            bool\n",
       "suspicious_words     int64\n",
       "domain              object\n",
       "suffix              object\n",
       "status               int64\n",
       "dtype: object"
      ]
     },
     "execution_count": 85,
     "metadata": {},
     "output_type": "execute_result"
    }
   ],
   "source": [
    "df.dtypes"
   ]
  },
  {
   "cell_type": "code",
   "execution_count": 86,
   "id": "6751e784-8929-4f20-a584-d7204a34ff28",
   "metadata": {},
   "outputs": [],
   "source": [
    "def print_memory(stage=''):\n",
    "    process = psutil.Process(os.getpid())\n",
    "    mem = process.memory_info().rss / (1024 ** 2)\n",
    "    print(f\"RAM Usage [{stage}]: {mem:.2f} MB\")"
   ]
  },
  {
   "cell_type": "code",
   "execution_count": 87,
   "id": "66d9feae-c78b-467e-b687-a1dd71cde898",
   "metadata": {},
   "outputs": [],
   "source": [
    "df.drop(columns=['url','type', 'domain', 'suffix', 'count_slashes'], inplace=True, errors='ignore')\n",
    "\n",
    "int_cols = ['url_length', 'hostname_length', 'path_length', \n",
    "            'count_dots', 'count_hyphens', 'suspicious_words']\n",
    "for col in int_cols:\n",
    "     if col in df.columns:\n",
    "        df[col] = pd.to_numeric(df[col], downcast='integer')\n",
    "\n",
    "bool_cols = ['has_ip', 'has_at_symbol', 'uses_https']\n",
    "for col in bool_cols:\n",
    "    if col in df.columns:\n",
    "        df[col] = df[col].astype('bool')\n"
   ]
  },
  {
   "cell_type": "code",
   "execution_count": 88,
   "id": "98f9cc72-5d6e-4e0b-b68d-7ab1c9245bdd",
   "metadata": {},
   "outputs": [
    {
     "data": {
      "text/plain": [
       "url_length          int16\n",
       "hostname_length     int16\n",
       "path_length         int16\n",
       "has_ip               bool\n",
       "has_at_symbol        bool\n",
       "count_dots           int8\n",
       "count_hyphens        int8\n",
       "uses_https           bool\n",
       "suspicious_words     int8\n",
       "status              int64\n",
       "dtype: object"
      ]
     },
     "execution_count": 88,
     "metadata": {},
     "output_type": "execute_result"
    }
   ],
   "source": [
    "df.dtypes"
   ]
  },
  {
   "cell_type": "code",
   "execution_count": 89,
   "id": "1ee9a0cd-ed64-48f8-9e33-1b38b3c28361",
   "metadata": {},
   "outputs": [
    {
     "data": {
      "text/html": [
       "<div>\n",
       "<style scoped>\n",
       "    .dataframe tbody tr th:only-of-type {\n",
       "        vertical-align: middle;\n",
       "    }\n",
       "\n",
       "    .dataframe tbody tr th {\n",
       "        vertical-align: top;\n",
       "    }\n",
       "\n",
       "    .dataframe thead th {\n",
       "        text-align: right;\n",
       "    }\n",
       "</style>\n",
       "<table border=\"1\" class=\"dataframe\">\n",
       "  <thead>\n",
       "    <tr style=\"text-align: right;\">\n",
       "      <th></th>\n",
       "      <th>url_length</th>\n",
       "      <th>hostname_length</th>\n",
       "      <th>path_length</th>\n",
       "      <th>has_ip</th>\n",
       "      <th>has_at_symbol</th>\n",
       "      <th>count_dots</th>\n",
       "      <th>count_hyphens</th>\n",
       "      <th>uses_https</th>\n",
       "      <th>suspicious_words</th>\n",
       "      <th>status</th>\n",
       "    </tr>\n",
       "  </thead>\n",
       "  <tbody>\n",
       "    <tr>\n",
       "      <th>0</th>\n",
       "      <td>22</td>\n",
       "      <td>14</td>\n",
       "      <td>0</td>\n",
       "      <td>False</td>\n",
       "      <td>False</td>\n",
       "      <td>2</td>\n",
       "      <td>0</td>\n",
       "      <td>True</td>\n",
       "      <td>0</td>\n",
       "      <td>0</td>\n",
       "    </tr>\n",
       "    <tr>\n",
       "      <th>1</th>\n",
       "      <td>23</td>\n",
       "      <td>15</td>\n",
       "      <td>0</td>\n",
       "      <td>False</td>\n",
       "      <td>False</td>\n",
       "      <td>2</td>\n",
       "      <td>0</td>\n",
       "      <td>True</td>\n",
       "      <td>0</td>\n",
       "      <td>0</td>\n",
       "    </tr>\n",
       "    <tr>\n",
       "      <th>2</th>\n",
       "      <td>24</td>\n",
       "      <td>16</td>\n",
       "      <td>0</td>\n",
       "      <td>False</td>\n",
       "      <td>False</td>\n",
       "      <td>2</td>\n",
       "      <td>0</td>\n",
       "      <td>True</td>\n",
       "      <td>0</td>\n",
       "      <td>0</td>\n",
       "    </tr>\n",
       "    <tr>\n",
       "      <th>3</th>\n",
       "      <td>21</td>\n",
       "      <td>13</td>\n",
       "      <td>0</td>\n",
       "      <td>False</td>\n",
       "      <td>False</td>\n",
       "      <td>2</td>\n",
       "      <td>0</td>\n",
       "      <td>True</td>\n",
       "      <td>0</td>\n",
       "      <td>0</td>\n",
       "    </tr>\n",
       "    <tr>\n",
       "      <th>4</th>\n",
       "      <td>25</td>\n",
       "      <td>17</td>\n",
       "      <td>0</td>\n",
       "      <td>False</td>\n",
       "      <td>False</td>\n",
       "      <td>2</td>\n",
       "      <td>0</td>\n",
       "      <td>True</td>\n",
       "      <td>0</td>\n",
       "      <td>0</td>\n",
       "    </tr>\n",
       "  </tbody>\n",
       "</table>\n",
       "</div>"
      ],
      "text/plain": [
       "   url_length  hostname_length  path_length  has_ip  has_at_symbol  \\\n",
       "0          22               14            0   False          False   \n",
       "1          23               15            0   False          False   \n",
       "2          24               16            0   False          False   \n",
       "3          21               13            0   False          False   \n",
       "4          25               17            0   False          False   \n",
       "\n",
       "   count_dots  count_hyphens  uses_https  suspicious_words  status  \n",
       "0           2              0        True                 0       0  \n",
       "1           2              0        True                 0       0  \n",
       "2           2              0        True                 0       0  \n",
       "3           2              0        True                 0       0  \n",
       "4           2              0        True                 0       0  "
      ]
     },
     "execution_count": 89,
     "metadata": {},
     "output_type": "execute_result"
    }
   ],
   "source": [
    "df.head()"
   ]
  },
  {
   "cell_type": "code",
   "execution_count": 90,
   "id": "79d3cb08-a2aa-443b-be4f-a4a344ed5406",
   "metadata": {},
   "outputs": [
    {
     "name": "stdout",
     "output_type": "stream",
     "text": [
      "RAM Usage [After Loading..]: 640.01 MB\n"
     ]
    }
   ],
   "source": [
    "print_memory('After Loading..')"
   ]
  },
  {
   "cell_type": "code",
   "execution_count": 91,
   "id": "1160d74a-4501-426d-9a63-1938b267fa5d",
   "metadata": {},
   "outputs": [],
   "source": [
    "X = df.drop(['status'],axis=1)\n",
    "y = df.status"
   ]
  },
  {
   "cell_type": "code",
   "execution_count": 92,
   "id": "5741f2cd-61b1-48bc-b7c7-0aaf24545901",
   "metadata": {},
   "outputs": [],
   "source": [
    "X_train, X_test, y_train, y_test = train_test_split(X, y, test_size=0.2, random_state=42)"
   ]
  },
  {
   "cell_type": "code",
   "execution_count": 93,
   "id": "32d7fdce-34c0-4110-ab12-efa64cb1f89e",
   "metadata": {},
   "outputs": [
    {
     "name": "stdout",
     "output_type": "stream",
     "text": [
      "Training Logistic Regression model...\n",
      "Model fitting complete!..\n"
     ]
    }
   ],
   "source": [
    "print(\"Training Logistic Regression model...\")\n",
    "model = LogisticRegression(max_iter=1000, solver='liblinear')\n",
    "model.fit(X_train, y_train)\n",
    "print(\"Model fitting complete!..\")"
   ]
  },
  {
   "cell_type": "code",
   "execution_count": 94,
   "id": "4494b5c5-9109-4340-9700-c7c7e9c27a59",
   "metadata": {},
   "outputs": [
    {
     "data": {
      "text/plain": [
       "0.9860500244346706"
      ]
     },
     "execution_count": 94,
     "metadata": {},
     "output_type": "execute_result"
    }
   ],
   "source": [
    "model.score(X_test, y_test)"
   ]
  },
  {
   "cell_type": "code",
   "execution_count": 95,
   "id": "868d6311-9b66-499d-9e4f-e1c1dce1443a",
   "metadata": {},
   "outputs": [],
   "source": [
    "y_pred = model.predict(X_test)"
   ]
  },
  {
   "cell_type": "code",
   "execution_count": 96,
   "id": "33abf365-57c2-4c17-83d2-184b52872639",
   "metadata": {},
   "outputs": [
    {
     "name": "stdout",
     "output_type": "stream",
     "text": [
      "Classification report:               precision    recall  f1-score   support\n",
      "\n",
      "           0       0.98      1.00      0.99     68921\n",
      "           1       1.00      0.94      0.97     21115\n",
      "\n",
      "    accuracy                           0.99     90036\n",
      "   macro avg       0.99      0.97      0.98     90036\n",
      "weighted avg       0.99      0.99      0.99     90036\n",
      "\n"
     ]
    }
   ],
   "source": [
    "print(f\"Classification report: {classification_report(y_test, y_pred)}\")"
   ]
  },
  {
   "cell_type": "code",
   "execution_count": 97,
   "id": "cded20d4-bcf0-47a7-bbe6-6a9a86e22b6e",
   "metadata": {},
   "outputs": [
    {
     "name": "stdout",
     "output_type": "stream",
     "text": [
      "RAM Usage [After Training..]: 642.21 MB\n"
     ]
    }
   ],
   "source": [
    "print_memory('After Training..')"
   ]
  },
  {
   "cell_type": "code",
   "execution_count": 99,
   "id": "139a4237-72a0-456e-8afb-73cd0dc84adc",
   "metadata": {},
   "outputs": [
    {
     "data": {
      "image/png": "[encoded data removed]",
      "text/plain": [
       "<Figure size 600x400 with 2 Axes>"
      ]
     },
     "metadata": {},
     "output_type": "display_data"
    }
   ],
   "source": [
    "cm = confusion_matrix(y_test, y_pred)\n",
    "\n",
    "plt.figure(figsize=(6, 4))\n",
    "sns.heatmap(cm, annot=True, fmt='d', cmap='Blues', xticklabels=['Legitimate', 'Phishing'], yticklabels=['Legitimate', 'Phishing'])\n",
    "plt.xlabel('Predicted')\n",
    "plt.ylabel('Actual')\n",
    "plt.title('Confusion Matrix')\n",
    "plt.tight_layout()\n",
    "plt.show()"
   ]
  },
  {
   "cell_type": "code",
   "execution_count": 102,
   "id": "45de2ff2-f272-4354-87d5-94e630880d0c",
   "metadata": {},
   "outputs": [
    {
     "data": {
      "text/plain": [
       "['phishing_modelv1.pkl']"
      ]
     },
     "execution_count": 102,
     "metadata": {},
     "output_type": "execute_result"
    }
   ],
   "source": [
    "joblib.dump(model,'phishing_modelv1.pkl')"
   ]
  },
  {
   "cell_type": "code",
   "execution_count": null,
   "id": "401df09f-ab35-4608-b20a-a665f1898e24",
   "metadata": {},
   "outputs": [],
   "source": []
  }
 ],
 "metadata": {
  "kernelspec": {
   "display_name": "Python 3 (ipykernel)",
   "language": "python",
   "name": "python3"
  },
  "language_info": {
   "codemirror_mode": {
    "name": "ipython",
    "version": 3
   },
   "file_extension": ".py",
   "mimetype": "text/x-python",
   "name": "python",
   "nbconvert_exporter": "python",
   "pygments_lexer": "ipython3",
   "version": "3.10.10"
  }
 },
 "nbformat": 4,
 "nbformat_minor": 5
}
